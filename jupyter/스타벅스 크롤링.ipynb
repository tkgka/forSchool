{
 "cells": [
  {
   "cell_type": "code",
   "execution_count": 116,
   "metadata": {},
   "outputs": [],
   "source": [
    "from selenium import webdriver as wb\n",
    "from bs4 import BeautifulSoup as bs\n",
    "import time\n",
    "import pandas as pd\n",
    "#웹 브라우저 실행\n",
    "driver = wb.Chrome(\"../driver/chromedriver.exe\")\n",
    "#해당 URL을 브라우저로 실행\n",
    "url = 'https://www.starbucks.co.kr/store/store_map.do'\n",
    "\n",
    "driver.get(url)\n",
    "time.sleep(2)\n",
    "#검색창 태그(요소) 검색\n",
    "#검색버튼 태그(요소) 검색\n",
    "btn_loca = driver.find_element_by_class_name('loca_search')\n",
    "btn_loca.click()\n",
    "time.sleep(1)\n",
    "btn_loca = driver.find_element_by_css_selector('#container > div > form > fieldset > div > section > article.find_store_cont > article > article:nth-child(4) > div.loca_step1 > div.loca_step1_cont > ul > li:nth-child(3) > a')\n",
    "btn_loca.click()\n",
    "time.sleep(1)\n",
    "btn_loca = driver.find_element_by_css_selector('#mCSB_2_container > ul > li:nth-child(1) > a')\n",
    "btn_loca.click()"
   ]
  },
  {
   "cell_type": "code",
   "execution_count": 120,
   "metadata": {},
   "outputs": [],
   "source": [
    "names =[]\n",
    "locs =[]\n",
    "phones = []\n",
    "soup = bs(driver.page_source,'html.parser')\n",
    "name = soup.select('#mCSB_3_container > ul > li')\n",
    "loc = soup.select('#mCSB_3_container > ul > li > p')\n",
    "\n",
    "for i in range(len(name)):\n",
    "    names.append(name[i].text)\n",
    "    locs.append(loc[i].text[:-9])\n",
    "    phones.append(loc[i].text[-9:])\n",
    "    \n",
    "\n",
    "\n",
    "\n"
   ]
  },
  {
   "cell_type": "code",
   "execution_count": 119,
   "metadata": {},
   "outputs": [
    {
     "name": "stdout",
     "output_type": "stream",
     "text": [
      "57\n"
     ]
    }
   ],
   "source": [
    "dic = {'name':names,'location':locs, 'phones':phones}\n",
    "data = pd.DataFrame(dic)\n",
    "data.to_csv('../data/hansot2.csv', encoding ='utf-8')"
   ]
  }
 ],
 "metadata": {
  "kernelspec": {
   "display_name": "Python 3",
   "language": "python",
   "name": "python3"
  },
  "language_info": {
   "codemirror_mode": {
    "name": "ipython",
    "version": 3
   },
   "file_extension": ".py",
   "mimetype": "text/x-python",
   "name": "python",
   "nbconvert_exporter": "python",
   "pygments_lexer": "ipython3",
   "version": "3.7.3"
  }
 },
 "nbformat": 4,
 "nbformat_minor": 2
}
