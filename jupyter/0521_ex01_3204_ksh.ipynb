{
 "cells": [
  {
   "cell_type": "code",
   "execution_count": 3,
   "metadata": {},
   "outputs": [
    {
     "name": "stdout",
     "output_type": "stream",
     "text": [
      "제목 행정기관 소속 위원회 위원 개인정보 및 안건 공개 기준...\n",
      "링크 : /ucms/ogp/sug/view.do?menuNo=300011&sgId=280&pnum=1\n",
      "제목 초과근무 줄이기!\n",
      "링크 : /ucms/ogp/sug/view.do?menuNo=300011&sgId=279&pnum=1\n",
      "제목 원스톱 의원요구자료 제출 시스템 구축\n",
      "링크 : /ucms/ogp/sug/view.do?menuNo=300011&sgId=278&pnum=1\n",
      "제목 예산을 공평하게 분배\n",
      "링크 : /ucms/ogp/sug/view.do?menuNo=300011&sgId=277&pnum=1\n",
      "제목 공무원 인트라넷 통합메신저\n",
      "링크 : /ucms/ogp/sug/view.do?menuNo=300011&sgId=276&pnum=1\n"
     ]
    }
   ],
   "source": [
    "from urllib.request import urlopen\n",
    "from bs4 import BeautifulSoup\n",
    "\n",
    "url = \"https://www.innogov.go.kr/ucms/ogp/sug/list.do?pnum=1&menuNo=300011\"\n",
    "\n",
    "html = urlopen(url)\n",
    "\n",
    "soup = BeautifulSoup(html,'html.parser')\n",
    "results = soup.select(\"#content > div.suggestion_list > ul > li > dl > dt > p > a\")\n",
    "\n",
    "\n",
    "for i in results:\n",
    "    print(\"제목\",i.string)\n",
    "    print(\"링크 :\", i.attrs['href'])\n",
    "\n",
    "\n",
    "\n",
    "\n"
   ]
  },
  {
   "cell_type": "code",
   "execution_count": 4,
   "metadata": {},
   "outputs": [
    {
     "name": "stdout",
     "output_type": "stream",
     "text": [
      "3\n",
      "--------------------------1 페이지 --------------------------------\n",
      "제목 : 행정기관 소속 위원회 위원 개인정보 및 안건 공개 기준...\n",
      "링크 : http://www.innogov.go.kr/ucms/ogp/sug/view.do?menuNo=300011&sgId=280&pnum=1\n",
      "제목 : 초과근무 줄이기!\n",
      "링크 : http://www.innogov.go.kr/ucms/ogp/sug/view.do?menuNo=300011&sgId=279&pnum=1\n",
      "제목 : 원스톱 의원요구자료 제출 시스템 구축\n",
      "링크 : http://www.innogov.go.kr/ucms/ogp/sug/view.do?menuNo=300011&sgId=278&pnum=1\n",
      "제목 : 예산을 공평하게 분배\n",
      "링크 : http://www.innogov.go.kr/ucms/ogp/sug/view.do?menuNo=300011&sgId=277&pnum=1\n",
      "제목 : 공무원 인트라넷 통합메신저\n",
      "링크 : http://www.innogov.go.kr/ucms/ogp/sug/view.do?menuNo=300011&sgId=276&pnum=1\n",
      "--------------------------2 페이지 --------------------------------\n",
      "제목 : 임대아파트 이웃 주민들에게 피해를 주는 입주민에 대한 ...\n",
      "링크 : http://www.innogov.go.kr/ucms/ogp/sug/view.do?menuNo=300011&sgId=275&pnum=2\n",
      "제목 : 천차만별인 지역 유류가격을 지자체별로 저가 순위 주유소...\n",
      "링크 : http://www.innogov.go.kr/ucms/ogp/sug/view.do?menuNo=300011&sgId=274&pnum=2\n",
      "제목 : 행안부 생활공감정책추진단 제안에 대한 검토방식 개선\n",
      "링크 : http://www.innogov.go.kr/ucms/ogp/sug/view.do?menuNo=300011&sgId=272&pnum=2\n",
      "제목 : 주거형 오피스텔 차별 해소 필요\n",
      "링크 : http://www.innogov.go.kr/ucms/ogp/sug/view.do?menuNo=300011&sgId=271&pnum=2\n",
      "제목 : 국민연금불입금담보대출\n",
      "링크 : http://www.innogov.go.kr/ucms/ogp/sug/view.do?menuNo=300011&sgId=270&pnum=2\n",
      "--------------------------3 페이지 --------------------------------\n",
      "제목 : 한 말씀\n",
      "링크 : http://www.innogov.go.kr/ucms/ogp/sug/view.do?menuNo=300011&sgId=269&pnum=3\n",
      "제목 : 65세 경로대상자   사전안내\n",
      "링크 : http://www.innogov.go.kr/ucms/ogp/sug/view.do?menuNo=300011&sgId=268&pnum=3\n",
      "제목 : 한표.두표  10인 이내 투표 활용도   궁금!\n",
      "링크 : http://www.innogov.go.kr/ucms/ogp/sug/view.do?menuNo=300011&sgId=267&pnum=3\n",
      "제목 : 우리가  이용하는 식당 이상한점?\n",
      "링크 : http://www.innogov.go.kr/ucms/ogp/sug/view.do?menuNo=300011&sgId=266&pnum=3\n",
      "제목 : 빌고빌고 또 합니다\n",
      "링크 : http://www.innogov.go.kr/ucms/ogp/sug/view.do?menuNo=300011&sgId=265&pnum=3\n"
     ]
    }
   ],
   "source": [
    "from urllib.request import urlopen\n",
    "from bs4 import BeautifulSoup\n",
    "num = input()\n",
    "for j in range(1, int(num)+1):\n",
    "    print(f\"--------------------------{j} 페이지 --------------------------------\")\n",
    "    url = f'http://www.innogov.go.kr/ucms/ogp/sug/list.do?pnum={j}&menuNo=300011&cateCd=&status1Cd=&Status2Cd=&searchText=&sugMonthTp=&orderKey=registDtDesc'\n",
    "    html = urlopen(url)\n",
    "    soup = BeautifulSoup(html, 'html.parser')\n",
    "\n",
    "    results = soup.select(\"#content > div.suggestion_list > ul > li > dl > dt > p > a\")\n",
    "    for i in results:\n",
    "        print(\"제목 :\", i.string)\n",
    "        print(\"링크 :\", \"http://www.innogov.go.kr\"+i.attrs['href'])\n"
   ]
  },
  {
   "cell_type": "code",
   "execution_count": 5,
   "metadata": {},
   "outputs": [
    {
     "name": "stdout",
     "output_type": "stream",
     "text": [
      "검색어:a\n",
      "어디까지 크롤링 할까요:a\n"
     ]
    },
    {
     "ename": "ValueError",
     "evalue": "invalid literal for int() with base 10: 'a'",
     "output_type": "error",
     "traceback": [
      "\u001b[1;31m---------------------------------------------------------------------------\u001b[0m",
      "\u001b[1;31mValueError\u001b[0m                                Traceback (most recent call last)",
      "\u001b[1;32m<ipython-input-5-4538f6a77be9>\u001b[0m in \u001b[0;36m<module>\u001b[1;34m\u001b[0m\n\u001b[0;32m      6\u001b[0m \u001b[0mnum\u001b[0m \u001b[1;33m=\u001b[0m \u001b[0minput\u001b[0m\u001b[1;33m(\u001b[0m\u001b[1;34m\"어디까지 크롤링 할까요:\"\u001b[0m\u001b[1;33m)\u001b[0m\u001b[1;33m\u001b[0m\u001b[1;33m\u001b[0m\u001b[0m\n\u001b[0;32m      7\u001b[0m \u001b[1;33m\u001b[0m\u001b[0m\n\u001b[1;32m----> 8\u001b[1;33m \u001b[1;32mfor\u001b[0m \u001b[0mj\u001b[0m \u001b[1;32min\u001b[0m \u001b[0mrange\u001b[0m\u001b[1;33m(\u001b[0m\u001b[1;36m1\u001b[0m\u001b[1;33m,\u001b[0m \u001b[0mint\u001b[0m\u001b[1;33m(\u001b[0m\u001b[0mnum\u001b[0m\u001b[1;33m)\u001b[0m\u001b[1;33m+\u001b[0m\u001b[1;36m1\u001b[0m\u001b[1;33m)\u001b[0m\u001b[1;33m:\u001b[0m\u001b[1;33m\u001b[0m\u001b[1;33m\u001b[0m\u001b[0m\n\u001b[0m\u001b[0;32m      9\u001b[0m     \u001b[0mprint\u001b[0m\u001b[1;33m(\u001b[0m\u001b[1;34mf\"--------------------------{j} 페이지 --------------------------------\"\u001b[0m\u001b[1;33m)\u001b[0m\u001b[1;33m\u001b[0m\u001b[1;33m\u001b[0m\u001b[0m\n\u001b[0;32m     10\u001b[0m     \u001b[0murl\u001b[0m \u001b[1;33m=\u001b[0m \u001b[1;34mf'http://www.innogov.go.kr/ucms/ogp/sug/list.do?pnum={j}&menuNo=300011&cateCd=&status1Cd=&Status2Cd=&searchText={quote_plus(search)}&sugMonthTp=&orderKey=registDtDesc'\u001b[0m\u001b[1;33m\u001b[0m\u001b[1;33m\u001b[0m\u001b[0m\n",
      "\u001b[1;31mValueError\u001b[0m: invalid literal for int() with base 10: 'a'"
     ]
    }
   ],
   "source": [
    "from urllib.request import urlopen\n",
    "from bs4 import BeautifulSoup\n",
    "from urllib.parse import quote_plus\n",
    "\n",
    "search = input(\"검색어:\")\n",
    "num = input(\"어디까지 크롤링 할까요:\")\n",
    "\n",
    "for j in range(1, int(num)+1):\n",
    "    print(f\"--------------------------{j} 페이지 --------------------------------\")\n",
    "    url = f'http://www.innogov.go.kr/ucms/ogp/sug/list.do?pnum={j}&menuNo=300011&cateCd=&status1Cd=&Status2Cd=&searchText={quote_plus(search)}&sugMonthTp=&orderKey=registDtDesc'\n",
    "    html = urlopen(url)\n",
    "    soup = BeautifulSoup(html, 'html.parser')\n",
    "\n",
    "    results = soup.select(\"#content > div.suggestion_list > ul > li > dl > dt > p > a\")\n",
    "    for i in results:\n",
    "        print(\"제목 :\", i.string)\n",
    "        print(\"링크 :\", \"http://www.innogov.go.kr\"+i.attrs['href'])\n",
    "\n"
   ]
  },
  {
   "cell_type": "code",
   "execution_count": 50,
   "metadata": {},
   "outputs": [
    {
     "name": "stdout",
     "output_type": "stream",
     "text": [
      "검색어:예산\n",
      "어디까지 크롤링 할까요:1\n",
      "--------------------------1 페이지 --------------------------------\n",
      "['/ucms/ogp/sug/view.do?menuNo=300011&sgId=277&pnum=1', '/ucms/ogp/sug/view.do?menuNo=300011&sgId=257&pnum=1', '/ucms/ogp/sug/view.do?menuNo=300011&sgId=227&pnum=1', '/ucms/ogp/sug/view.do?menuNo=300011&sgId=226&pnum=1', '/ucms/ogp/sug/view.do?menuNo=300011&sgId=215&pnum=1']\n"
     ]
    }
   ],
   "source": [
    "from urllib.request import urlopen\n",
    "from bs4 import BeautifulSoup\n",
    "from urllib.parse import quote_plus\n",
    "\n",
    "search = input(\"검색어:\")\n",
    "num = input(\"어디까지 크롤링 할까요:\")\n",
    "\n",
    "link = []\n",
    "for j in range(1, int(num)+1):\n",
    "    print(f\"--------------------------{j} 페이지 --------------------------------\")\n",
    "    url = f'http://www.innogov.go.kr/ucms/ogp/sug/list.do?pnum={j}&menuNo=300011&cateCd=&status1Cd=&Status2Cd=&searchText={quote_plus(search)}&sugMonthTp=&orderKey=registDtDesc'\n",
    "    html = urlopen(url)\n",
    "    soup = BeautifulSoup(html, 'html.parser')\n",
    "\n",
    "    results = soup.select(\"#content > div.suggestion_list > ul > li > dl > dt > p > a\")\n",
    "    for i in results:\n",
    "        \n",
    "        link.append(i.attrs['href'])\n",
    "\n",
    "print(link)"
   ]
  },
  {
   "cell_type": "code",
   "execution_count": 17,
   "metadata": {},
   "outputs": [
    {
     "name": "stdout",
     "output_type": "stream",
     "text": [
      "3\n"
     ]
    }
   ],
   "source": [
    "url = \"/ucms/ogp/sug/view.do?menuNo=300011&sgId=277&pnum=1\"\n",
    "baseurl = \"http://www.innogov.go.kr\"+ url\n",
    "html = urlopen(baseurl)\n",
    "soup = BeautifulSoup(html, 'html.parser')\n",
    "\n",
    "results = soup.select_one(\"#counter\").string\n",
    "\n",
    "print(results)"
   ]
  },
  {
   "cell_type": "code",
   "execution_count": 45,
   "metadata": {},
   "outputs": [
    {
     "name": "stdout",
     "output_type": "stream",
     "text": [
      "<div class=\"vveiw_name\">\n",
      "<ul>\n",
      "<li>\n",
      "<dl>\n",
      "<dt>제안분야</dt>\n",
      "<dd>사회통합</dd>\n",
      "</dl>\n",
      "</li>\n",
      "<li>\n",
      "<dl>\n",
      "<dt>제안시작</dt>\n",
      "<dd>2019.10.15</dd>\n",
      "</dl>\n",
      "</li>\n",
      "<li>\n",
      "<dl>\n",
      "<dt>제안마감</dt>\n",
      "<dd>2020.01.12</dd>\n",
      "</dl>\n",
      "</li>\n",
      "<li>\n",
      "<dl>\n",
      "<dt>제안인</dt>\n",
      "<dd>슈퍼맨119</dd>\n",
      "</dl>\n",
      "</li>\n",
      "</ul>\n",
      "</div>\n"
     ]
    }
   ],
   "source": [
    "url = \"/ucms/ogp/sug/view.do?menuNo=300011&sgId=277&pnum=1\"\n",
    "baseurl = \"http://www.innogov.go.kr\"+ url\n",
    "html = urlopen(baseurl)\n",
    "soup = BeautifulSoup(html, 'html.parser')\n",
    "\n",
    "results = soup.find(class_ =\"vveiw_name\")\n",
    "print(results)\n"
   ]
  },
  {
   "cell_type": "code",
   "execution_count": 25,
   "metadata": {},
   "outputs": [
    {
     "data": {
      "text/plain": [
       "'277'"
      ]
     },
     "execution_count": 25,
     "metadata": {},
     "output_type": "execute_result"
    }
   ],
   "source": [
    "url.split('=')[2].split('&')[0]\n"
   ]
  },
  {
   "cell_type": "code",
   "execution_count": 67,
   "metadata": {},
   "outputs": [
    {
     "name": "stdout",
     "output_type": "stream",
     "text": [
      "['277', '예산을 공평하게 분배', '사회통합', '2019.10.15', '2020.01.12', '3', '슈퍼맨119']\n",
      "['257', '동사무소 번호표', '사회통합', '2019.08.30', '2019.11.27', '1', '올리는 시민']\n",
      "['227', '국민제안 문제점 지적 및 개선사항', '국민참여', '2019.07.26', '2019.10.23', '7', '길쌈']\n",
      "['226', '가정양육수당 대폭 인상을 통한 보육예산 DOWN, 아이행복 UP', '보건복지', '2019.07.19', '2019.10.16', '2', '한들바람']\n",
      "['215', '중앙부처 및 산하기관에서 추진하는 공모사업, 지원 사업을 한곳에서 볼 수 있게 해 주세요!', '국민참여', '2019.06.24', '2019.09.21', '57', '희동이']\n"
     ]
    }
   ],
   "source": [
    "data =[]\n",
    "for i, html in enumerate(link):\n",
    "    a = get(html)\n",
    "    data.append(a)\n",
    "    print(a)\n",
    "    \n",
    "    "
   ]
  },
  {
   "cell_type": "code",
   "execution_count": 59,
   "metadata": {},
   "outputs": [],
   "source": [
    "def get(html):\n",
    "    \n",
    "    baseurl = \"http://www.innogov.go.kr\"+ html\n",
    "    article = []\n",
    "    html = urlopen(baseurl)\n",
    "    soup = BeautifulSoup(html, 'html.parser')\n",
    "    title = soup.find('dl', class_ =\"vveiw_titl1\").find('dt')\n",
    "    results = soup.find(class_ =\"vveiw_name\").find_all('dd')\n",
    "    article.append(baseurl.split('=')[2].split('&')[0])\n",
    "    article.append(title.string)\n",
    "    article.append(results[0].string)\n",
    "    article.append(results[1].string)\n",
    "    article.append(results[2].string)\n",
    "    article.append(soup.select_one(\"#counter\").string)\n",
    "    article.append(results[3].string)\n",
    "    \n",
    "    return article\n",
    "    "
   ]
  },
  {
   "cell_type": "code",
   "execution_count": 69,
   "metadata": {},
   "outputs": [
    {
     "data": {
      "text/html": [
       "<div>\n",
       "<style scoped>\n",
       "    .dataframe tbody tr th:only-of-type {\n",
       "        vertical-align: middle;\n",
       "    }\n",
       "\n",
       "    .dataframe tbody tr th {\n",
       "        vertical-align: top;\n",
       "    }\n",
       "\n",
       "    .dataframe thead th {\n",
       "        text-align: right;\n",
       "    }\n",
       "</style>\n",
       "<table border=\"1\" class=\"dataframe\">\n",
       "  <thead>\n",
       "    <tr style=\"text-align: right;\">\n",
       "      <th></th>\n",
       "      <th>id</th>\n",
       "      <th>title</th>\n",
       "      <th>category</th>\n",
       "      <th>start</th>\n",
       "      <th>end</th>\n",
       "      <th>vote</th>\n",
       "      <th>author</th>\n",
       "    </tr>\n",
       "  </thead>\n",
       "  <tbody>\n",
       "    <tr>\n",
       "      <th>0</th>\n",
       "      <td>277</td>\n",
       "      <td>예산을 공평하게 분배</td>\n",
       "      <td>사회통합</td>\n",
       "      <td>2019.10.15</td>\n",
       "      <td>2020.01.12</td>\n",
       "      <td>3</td>\n",
       "      <td>슈퍼맨119</td>\n",
       "    </tr>\n",
       "    <tr>\n",
       "      <th>1</th>\n",
       "      <td>257</td>\n",
       "      <td>동사무소 번호표</td>\n",
       "      <td>사회통합</td>\n",
       "      <td>2019.08.30</td>\n",
       "      <td>2019.11.27</td>\n",
       "      <td>1</td>\n",
       "      <td>올리는 시민</td>\n",
       "    </tr>\n",
       "    <tr>\n",
       "      <th>2</th>\n",
       "      <td>227</td>\n",
       "      <td>국민제안 문제점 지적 및 개선사항</td>\n",
       "      <td>국민참여</td>\n",
       "      <td>2019.07.26</td>\n",
       "      <td>2019.10.23</td>\n",
       "      <td>7</td>\n",
       "      <td>길쌈</td>\n",
       "    </tr>\n",
       "    <tr>\n",
       "      <th>3</th>\n",
       "      <td>226</td>\n",
       "      <td>가정양육수당 대폭 인상을 통한 보육예산 DOWN, 아이행복 UP</td>\n",
       "      <td>보건복지</td>\n",
       "      <td>2019.07.19</td>\n",
       "      <td>2019.10.16</td>\n",
       "      <td>2</td>\n",
       "      <td>한들바람</td>\n",
       "    </tr>\n",
       "    <tr>\n",
       "      <th>4</th>\n",
       "      <td>215</td>\n",
       "      <td>중앙부처 및 산하기관에서 추진하는 공모사업, 지원 사업을 한곳에서 볼 수 있게 해 ...</td>\n",
       "      <td>국민참여</td>\n",
       "      <td>2019.06.24</td>\n",
       "      <td>2019.09.21</td>\n",
       "      <td>57</td>\n",
       "      <td>희동이</td>\n",
       "    </tr>\n",
       "  </tbody>\n",
       "</table>\n",
       "</div>"
      ],
      "text/plain": [
       "    id                                              title category  \\\n",
       "0  277                                        예산을 공평하게 분배     사회통합   \n",
       "1  257                                           동사무소 번호표     사회통합   \n",
       "2  227                                 국민제안 문제점 지적 및 개선사항     국민참여   \n",
       "3  226                가정양육수당 대폭 인상을 통한 보육예산 DOWN, 아이행복 UP     보건복지   \n",
       "4  215  중앙부처 및 산하기관에서 추진하는 공모사업, 지원 사업을 한곳에서 볼 수 있게 해 ...     국민참여   \n",
       "\n",
       "        start         end vote  author  \n",
       "0  2019.10.15  2020.01.12    3  슈퍼맨119  \n",
       "1  2019.08.30  2019.11.27    1  올리는 시민  \n",
       "2  2019.07.26  2019.10.23    7      길쌈  \n",
       "3  2019.07.19  2019.10.16    2    한들바람  \n",
       "4  2019.06.24  2019.09.21   57     희동이  "
      ]
     },
     "execution_count": 69,
     "metadata": {},
     "output_type": "execute_result"
    }
   ],
   "source": [
    "import pandas as pd\n",
    "import numpy as np\n",
    "column_list = ['id', 'title', 'category','start','end','vote','author']\n",
    "df =pd.DataFrame(data,columns=column_list)\n",
    "df.head()"
   ]
  },
  {
   "cell_type": "code",
   "execution_count": 81,
   "metadata": {},
   "outputs": [],
   "source": [
    "df.rename(columns = {df.columns[0]:\"아이디\",df.columns[1]:\"제목\",df.columns[2]:\"제안분야\",\n",
    "                     df.columns[3]:\"제안시작\",\n",
    "                     df.columns[4]:\"제안마감\",\n",
    "                     df.columns[5]:\"투표수\",df.columns[6]:\"제안인\"}, inplace = True)"
   ]
  },
  {
   "cell_type": "code",
   "execution_count": 82,
   "metadata": {},
   "outputs": [],
   "source": [
    "df.to_csv('../data/suggestion.csv', encoding = 'euc-kr',sep=',')"
   ]
  },
  {
   "cell_type": "code",
   "execution_count": 83,
   "metadata": {},
   "outputs": [
    {
     "data": {
      "text/html": [
       "<div>\n",
       "<style scoped>\n",
       "    .dataframe tbody tr th:only-of-type {\n",
       "        vertical-align: middle;\n",
       "    }\n",
       "\n",
       "    .dataframe tbody tr th {\n",
       "        vertical-align: top;\n",
       "    }\n",
       "\n",
       "    .dataframe thead th {\n",
       "        text-align: right;\n",
       "    }\n",
       "</style>\n",
       "<table border=\"1\" class=\"dataframe\">\n",
       "  <thead>\n",
       "    <tr style=\"text-align: right;\">\n",
       "      <th></th>\n",
       "      <th>Unnamed: 0</th>\n",
       "      <th>아이디</th>\n",
       "      <th>제목</th>\n",
       "      <th>제안분야</th>\n",
       "      <th>제안시작</th>\n",
       "      <th>제안마감</th>\n",
       "      <th>투표수</th>\n",
       "      <th>제안인</th>\n",
       "    </tr>\n",
       "  </thead>\n",
       "  <tbody>\n",
       "    <tr>\n",
       "      <th>0</th>\n",
       "      <td>0</td>\n",
       "      <td>277</td>\n",
       "      <td>예산을 공평하게 분배</td>\n",
       "      <td>사회통합</td>\n",
       "      <td>2019.10.15</td>\n",
       "      <td>2020.01.12</td>\n",
       "      <td>3</td>\n",
       "      <td>슈퍼맨119</td>\n",
       "    </tr>\n",
       "    <tr>\n",
       "      <th>1</th>\n",
       "      <td>1</td>\n",
       "      <td>257</td>\n",
       "      <td>동사무소 번호표</td>\n",
       "      <td>사회통합</td>\n",
       "      <td>2019.08.30</td>\n",
       "      <td>2019.11.27</td>\n",
       "      <td>1</td>\n",
       "      <td>올리는 시민</td>\n",
       "    </tr>\n",
       "    <tr>\n",
       "      <th>2</th>\n",
       "      <td>2</td>\n",
       "      <td>227</td>\n",
       "      <td>국민제안 문제점 지적 및 개선사항</td>\n",
       "      <td>국민참여</td>\n",
       "      <td>2019.07.26</td>\n",
       "      <td>2019.10.23</td>\n",
       "      <td>7</td>\n",
       "      <td>길쌈</td>\n",
       "    </tr>\n",
       "    <tr>\n",
       "      <th>3</th>\n",
       "      <td>3</td>\n",
       "      <td>226</td>\n",
       "      <td>가정양육수당 대폭 인상을 통한 보육예산 DOWN, 아이행복 UP</td>\n",
       "      <td>보건복지</td>\n",
       "      <td>2019.07.19</td>\n",
       "      <td>2019.10.16</td>\n",
       "      <td>2</td>\n",
       "      <td>한들바람</td>\n",
       "    </tr>\n",
       "    <tr>\n",
       "      <th>4</th>\n",
       "      <td>4</td>\n",
       "      <td>215</td>\n",
       "      <td>중앙부처 및 산하기관에서 추진하는 공모사업, 지원 사업을 한곳에서 볼 수 있게 해 ...</td>\n",
       "      <td>국민참여</td>\n",
       "      <td>2019.06.24</td>\n",
       "      <td>2019.09.21</td>\n",
       "      <td>57</td>\n",
       "      <td>희동이</td>\n",
       "    </tr>\n",
       "  </tbody>\n",
       "</table>\n",
       "</div>"
      ],
      "text/plain": [
       "   Unnamed: 0  아이디                                                 제목  제안분야  \\\n",
       "0           0  277                                        예산을 공평하게 분배  사회통합   \n",
       "1           1  257                                           동사무소 번호표  사회통합   \n",
       "2           2  227                                 국민제안 문제점 지적 및 개선사항  국민참여   \n",
       "3           3  226                가정양육수당 대폭 인상을 통한 보육예산 DOWN, 아이행복 UP  보건복지   \n",
       "4           4  215  중앙부처 및 산하기관에서 추진하는 공모사업, 지원 사업을 한곳에서 볼 수 있게 해 ...  국민참여   \n",
       "\n",
       "         제안시작        제안마감  투표수     제안인  \n",
       "0  2019.10.15  2020.01.12    3  슈퍼맨119  \n",
       "1  2019.08.30  2019.11.27    1  올리는 시민  \n",
       "2  2019.07.26  2019.10.23    7      길쌈  \n",
       "3  2019.07.19  2019.10.16    2    한들바람  \n",
       "4  2019.06.24  2019.09.21   57     희동이  "
      ]
     },
     "execution_count": 83,
     "metadata": {},
     "output_type": "execute_result"
    }
   ],
   "source": [
    "data = pd.read_csv('../data/suggestion.csv',encoding ='euc-kr')\n",
    "data"
   ]
  }
 ],
 "metadata": {
  "kernelspec": {
   "display_name": "Python 3",
   "language": "python",
   "name": "python3"
  },
  "language_info": {
   "codemirror_mode": {
    "name": "ipython",
    "version": 3
   },
   "file_extension": ".py",
   "mimetype": "text/x-python",
   "name": "python",
   "nbconvert_exporter": "python",
   "pygments_lexer": "ipython3",
   "version": "3.7.3"
  }
 },
 "nbformat": 4,
 "nbformat_minor": 2
}
