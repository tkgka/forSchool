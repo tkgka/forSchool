{
 "cells": [
  {
   "cell_type": "code",
   "execution_count": 5,
   "metadata": {},
   "outputs": [
    {
     "name": "stdout",
     "output_type": "stream",
     "text": [
      "변경한 문장 : 洪吉童\n",
      "변경한 문장 : 제 이름은 洪吉童입니다. 제 이메일 주소는 <비공개> 입니다.\n"
     ]
    }
   ],
   "source": [
    "import re \n",
    "\n",
    "text = \"제 이름은 洪吉童입니다. 제 이메일 주소는 angel_123@gsm.hs.kr 입니다.\"\n",
    "\n",
    "compiling = re.compile('([a-zA-Z0-9\\-_]+@+[a-zA-Z\\.]+)')\n",
    "nameing = re.compile('[가-힣 \\.A-z1-9\\@]')\n",
    "name = re.sub(nameing,\"\",text)\n",
    "email = re.sub(compiling, \"<비공개>\", text)\n",
    "print(f\"변경한 문장 : {name}\")\n",
    "print(f\"변경한 문장 : {email}\")"
   ]
  },
  {
   "cell_type": "code",
   "execution_count": 71,
   "metadata": {},
   "outputs": [
    {
     "name": "stdout",
     "output_type": "stream",
     "text": [
      "변경한 문장: 삼성전자 하락, SK하이닉스 하락, LG화학 상승, 네이버 하락, 삼성바이오로직스 하락, 셀트리온 하락, 현대자동차 하락, 삼성SDI 상승, 카카오 하락, LG생활건강 하락, 광주소프트웨어마이스터고 취업률 상승\n"
     ]
    }
   ],
   "source": [
    "import re \n",
    "\n",
    "text = \" 삼성전자 1.6%하락, SK하이닉스 3.793%하락, LG화학 1.9%상승, 네이버 2.57%하락, 삼성바이오로직스 1.22%하락, 셀트리온 3.77%하락, 현대자동차 2.97%하락, 삼성SDI 0.11%상승, 카카오 3.16%하락, LG생활건강 1.60%하락, 광주소프트웨어마이스터고 취업률 80.5%상승\"\n",
    "\n",
    "new = re.compile('[0-9.\\%]')    \n",
    "text = re.sub(new, \"\", text)\n",
    "print(f\"변경한 문장:{text}\")\n"
   ]
  },
  {
   "cell_type": "code",
   "execution_count": 66,
   "metadata": {},
   "outputs": [
    {
     "data": {
      "text/plain": [
       "['전자', '바이오로직스', 'SDI']"
      ]
     },
     "execution_count": 66,
     "metadata": {},
     "output_type": "execute_result"
    }
   ],
   "source": [
    "content = re.compile('(?<=삼성)[가-힣A-z]+')\n",
    "content.findall(text)"
   ]
  },
  {
   "cell_type": "code",
   "execution_count": 78,
   "metadata": {},
   "outputs": [
    {
     "data": {
      "text/plain": [
       "[' LG화학 ', ' 삼성SDI ', ' 광주소프트웨어마이스터고 취업률 ']"
      ]
     },
     "execution_count": 78,
     "metadata": {},
     "output_type": "execute_result"
    }
   ],
   "source": [
    "#text = \"과자 값이 500상승이던 시절이 있었는데...\"\n",
    "content = re.compile('[가-힣 A-z]+(?=상승)')\n",
    "content.findall(text)"
   ]
  },
  {
   "cell_type": "code",
   "execution_count": null,
   "metadata": {},
   "outputs": [],
   "source": []
  }
 ],
 "metadata": {
  "kernelspec": {
   "display_name": "Python 3",
   "language": "python",
   "name": "python3"
  },
  "language_info": {
   "codemirror_mode": {
    "name": "ipython",
    "version": 3
   },
   "file_extension": ".py",
   "mimetype": "text/x-python",
   "name": "python",
   "nbconvert_exporter": "python",
   "pygments_lexer": "ipython3",
   "version": "3.7.3"
  }
 },
 "nbformat": 4,
 "nbformat_minor": 4
}
