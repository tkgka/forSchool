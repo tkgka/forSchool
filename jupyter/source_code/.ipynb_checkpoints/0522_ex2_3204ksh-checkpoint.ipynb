{
 "cells": [
  {
   "cell_type": "code",
   "execution_count": 1,
   "metadata": {},
   "outputs": [
    {
     "data": {
      "text/html": [
       "<div>\n",
       "<style scoped>\n",
       "    .dataframe tbody tr th:only-of-type {\n",
       "        vertical-align: middle;\n",
       "    }\n",
       "\n",
       "    .dataframe tbody tr th {\n",
       "        vertical-align: top;\n",
       "    }\n",
       "\n",
       "    .dataframe thead th {\n",
       "        text-align: right;\n",
       "    }\n",
       "</style>\n",
       "<table border=\"1\" class=\"dataframe\">\n",
       "  <thead>\n",
       "    <tr style=\"text-align: right;\">\n",
       "      <th></th>\n",
       "      <th>Unnamed: 0</th>\n",
       "      <th>아이디</th>\n",
       "      <th>제목</th>\n",
       "      <th>제안분야</th>\n",
       "      <th>제안시작</th>\n",
       "      <th>제안마감</th>\n",
       "      <th>투표수</th>\n",
       "      <th>제안인</th>\n",
       "    </tr>\n",
       "  </thead>\n",
       "  <tbody>\n",
       "    <tr>\n",
       "      <th>0</th>\n",
       "      <td>0</td>\n",
       "      <td>277</td>\n",
       "      <td>예산을 공평하게 분배</td>\n",
       "      <td>사회통합</td>\n",
       "      <td>2019.10.15</td>\n",
       "      <td>2020.01.12</td>\n",
       "      <td>3</td>\n",
       "      <td>슈퍼맨119</td>\n",
       "    </tr>\n",
       "    <tr>\n",
       "      <th>1</th>\n",
       "      <td>1</td>\n",
       "      <td>257</td>\n",
       "      <td>동사무소 번호표</td>\n",
       "      <td>사회통합</td>\n",
       "      <td>2019.08.30</td>\n",
       "      <td>2019.11.27</td>\n",
       "      <td>1</td>\n",
       "      <td>올리는 시민</td>\n",
       "    </tr>\n",
       "    <tr>\n",
       "      <th>2</th>\n",
       "      <td>2</td>\n",
       "      <td>227</td>\n",
       "      <td>국민제안 문제점 지적 및 개선사항</td>\n",
       "      <td>국민참여</td>\n",
       "      <td>2019.07.26</td>\n",
       "      <td>2019.10.23</td>\n",
       "      <td>7</td>\n",
       "      <td>길쌈</td>\n",
       "    </tr>\n",
       "    <tr>\n",
       "      <th>3</th>\n",
       "      <td>3</td>\n",
       "      <td>226</td>\n",
       "      <td>가정양육수당 대폭 인상을 통한 보육예산 DOWN, 아이행복 UP</td>\n",
       "      <td>보건복지</td>\n",
       "      <td>2019.07.19</td>\n",
       "      <td>2019.10.16</td>\n",
       "      <td>2</td>\n",
       "      <td>한들바람</td>\n",
       "    </tr>\n",
       "    <tr>\n",
       "      <th>4</th>\n",
       "      <td>4</td>\n",
       "      <td>215</td>\n",
       "      <td>중앙부처 및 산하기관에서 추진하는 공모사업, 지원 사업을 한곳에서 볼 수 있게 해 ...</td>\n",
       "      <td>국민참여</td>\n",
       "      <td>2019.06.24</td>\n",
       "      <td>2019.09.21</td>\n",
       "      <td>57</td>\n",
       "      <td>희동이</td>\n",
       "    </tr>\n",
       "  </tbody>\n",
       "</table>\n",
       "</div>"
      ],
      "text/plain": [
       "   Unnamed: 0  아이디                                                 제목  제안분야  \\\n",
       "0           0  277                                        예산을 공평하게 분배  사회통합   \n",
       "1           1  257                                           동사무소 번호표  사회통합   \n",
       "2           2  227                                 국민제안 문제점 지적 및 개선사항  국민참여   \n",
       "3           3  226                가정양육수당 대폭 인상을 통한 보육예산 DOWN, 아이행복 UP  보건복지   \n",
       "4           4  215  중앙부처 및 산하기관에서 추진하는 공모사업, 지원 사업을 한곳에서 볼 수 있게 해 ...  국민참여   \n",
       "\n",
       "         제안시작        제안마감  투표수     제안인  \n",
       "0  2019.10.15  2020.01.12    3  슈퍼맨119  \n",
       "1  2019.08.30  2019.11.27    1  올리는 시민  \n",
       "2  2019.07.26  2019.10.23    7      길쌈  \n",
       "3  2019.07.19  2019.10.16    2    한들바람  \n",
       "4  2019.06.24  2019.09.21   57     희동이  "
      ]
     },
     "execution_count": 1,
     "metadata": {},
     "output_type": "execute_result"
    }
   ],
   "source": [
    "import pandas as pd\n",
    "import numpy as np\n",
    "df = pd.read_csv('../data/suggestion.csv',encoding ='euc-kr')\n",
    "df.head()"
   ]
  },
  {
   "cell_type": "code",
   "execution_count": 2,
   "metadata": {},
   "outputs": [
    {
     "data": {
      "text/html": [
       "<div>\n",
       "<style scoped>\n",
       "    .dataframe tbody tr th:only-of-type {\n",
       "        vertical-align: middle;\n",
       "    }\n",
       "\n",
       "    .dataframe tbody tr th {\n",
       "        vertical-align: top;\n",
       "    }\n",
       "\n",
       "    .dataframe thead th {\n",
       "        text-align: right;\n",
       "    }\n",
       "</style>\n",
       "<table border=\"1\" class=\"dataframe\">\n",
       "  <thead>\n",
       "    <tr style=\"text-align: right;\">\n",
       "      <th></th>\n",
       "      <th>아이디</th>\n",
       "      <th>제목</th>\n",
       "      <th>제안분야</th>\n",
       "      <th>제안시작</th>\n",
       "      <th>제안마감</th>\n",
       "      <th>투표수</th>\n",
       "      <th>제안인</th>\n",
       "    </tr>\n",
       "  </thead>\n",
       "  <tbody>\n",
       "    <tr>\n",
       "      <th>0</th>\n",
       "      <td>277</td>\n",
       "      <td>예산을 공평하게 분배</td>\n",
       "      <td>사회통합</td>\n",
       "      <td>2019.10.15</td>\n",
       "      <td>2020.01.12</td>\n",
       "      <td>3</td>\n",
       "      <td>슈퍼맨119</td>\n",
       "    </tr>\n",
       "    <tr>\n",
       "      <th>1</th>\n",
       "      <td>257</td>\n",
       "      <td>동사무소 번호표</td>\n",
       "      <td>사회통합</td>\n",
       "      <td>2019.08.30</td>\n",
       "      <td>2019.11.27</td>\n",
       "      <td>1</td>\n",
       "      <td>올리는 시민</td>\n",
       "    </tr>\n",
       "    <tr>\n",
       "      <th>2</th>\n",
       "      <td>227</td>\n",
       "      <td>국민제안 문제점 지적 및 개선사항</td>\n",
       "      <td>국민참여</td>\n",
       "      <td>2019.07.26</td>\n",
       "      <td>2019.10.23</td>\n",
       "      <td>7</td>\n",
       "      <td>길쌈</td>\n",
       "    </tr>\n",
       "    <tr>\n",
       "      <th>3</th>\n",
       "      <td>226</td>\n",
       "      <td>가정양육수당 대폭 인상을 통한 보육예산 DOWN, 아이행복 UP</td>\n",
       "      <td>보건복지</td>\n",
       "      <td>2019.07.19</td>\n",
       "      <td>2019.10.16</td>\n",
       "      <td>2</td>\n",
       "      <td>한들바람</td>\n",
       "    </tr>\n",
       "    <tr>\n",
       "      <th>4</th>\n",
       "      <td>215</td>\n",
       "      <td>중앙부처 및 산하기관에서 추진하는 공모사업, 지원 사업을 한곳에서 볼 수 있게 해 ...</td>\n",
       "      <td>국민참여</td>\n",
       "      <td>2019.06.24</td>\n",
       "      <td>2019.09.21</td>\n",
       "      <td>57</td>\n",
       "      <td>희동이</td>\n",
       "    </tr>\n",
       "  </tbody>\n",
       "</table>\n",
       "</div>"
      ],
      "text/plain": [
       "   아이디                                                 제목  제안분야        제안시작  \\\n",
       "0  277                                        예산을 공평하게 분배  사회통합  2019.10.15   \n",
       "1  257                                           동사무소 번호표  사회통합  2019.08.30   \n",
       "2  227                                 국민제안 문제점 지적 및 개선사항  국민참여  2019.07.26   \n",
       "3  226                가정양육수당 대폭 인상을 통한 보육예산 DOWN, 아이행복 UP  보건복지  2019.07.19   \n",
       "4  215  중앙부처 및 산하기관에서 추진하는 공모사업, 지원 사업을 한곳에서 볼 수 있게 해 ...  국민참여  2019.06.24   \n",
       "\n",
       "         제안마감  투표수     제안인  \n",
       "0  2020.01.12    3  슈퍼맨119  \n",
       "1  2019.11.27    1  올리는 시민  \n",
       "2  2019.10.23    7      길쌈  \n",
       "3  2019.10.16    2    한들바람  \n",
       "4  2019.09.21   57     희동이  "
      ]
     },
     "execution_count": 2,
     "metadata": {},
     "output_type": "execute_result"
    }
   ],
   "source": [
    "del df['Unnamed: 0']\n",
    "#df.drop(['Unnamed: 0'],inplace = True, axis = 1)\n",
    "#df.drop([0], inplace= True ,axis =0)\n",
    "df.head()"
   ]
  },
  {
   "cell_type": "code",
   "execution_count": 3,
   "metadata": {},
   "outputs": [
    {
     "data": {
      "text/html": [
       "<div>\n",
       "<style scoped>\n",
       "    .dataframe tbody tr th:only-of-type {\n",
       "        vertical-align: middle;\n",
       "    }\n",
       "\n",
       "    .dataframe tbody tr th {\n",
       "        vertical-align: top;\n",
       "    }\n",
       "\n",
       "    .dataframe thead th {\n",
       "        text-align: right;\n",
       "    }\n",
       "</style>\n",
       "<table border=\"1\" class=\"dataframe\">\n",
       "  <thead>\n",
       "    <tr style=\"text-align: right;\">\n",
       "      <th></th>\n",
       "      <th>제목</th>\n",
       "      <th>제안분야</th>\n",
       "      <th>제안시작</th>\n",
       "      <th>제안마감</th>\n",
       "      <th>투표수</th>\n",
       "      <th>제안인</th>\n",
       "    </tr>\n",
       "    <tr>\n",
       "      <th>아이디</th>\n",
       "      <th></th>\n",
       "      <th></th>\n",
       "      <th></th>\n",
       "      <th></th>\n",
       "      <th></th>\n",
       "      <th></th>\n",
       "    </tr>\n",
       "  </thead>\n",
       "  <tbody>\n",
       "    <tr>\n",
       "      <th>277</th>\n",
       "      <td>예산을 공평하게 분배</td>\n",
       "      <td>사회통합</td>\n",
       "      <td>2019.10.15</td>\n",
       "      <td>2020.01.12</td>\n",
       "      <td>3</td>\n",
       "      <td>슈퍼맨119</td>\n",
       "    </tr>\n",
       "    <tr>\n",
       "      <th>257</th>\n",
       "      <td>동사무소 번호표</td>\n",
       "      <td>사회통합</td>\n",
       "      <td>2019.08.30</td>\n",
       "      <td>2019.11.27</td>\n",
       "      <td>1</td>\n",
       "      <td>올리는 시민</td>\n",
       "    </tr>\n",
       "    <tr>\n",
       "      <th>227</th>\n",
       "      <td>국민제안 문제점 지적 및 개선사항</td>\n",
       "      <td>국민참여</td>\n",
       "      <td>2019.07.26</td>\n",
       "      <td>2019.10.23</td>\n",
       "      <td>7</td>\n",
       "      <td>길쌈</td>\n",
       "    </tr>\n",
       "    <tr>\n",
       "      <th>226</th>\n",
       "      <td>가정양육수당 대폭 인상을 통한 보육예산 DOWN, 아이행복 UP</td>\n",
       "      <td>보건복지</td>\n",
       "      <td>2019.07.19</td>\n",
       "      <td>2019.10.16</td>\n",
       "      <td>2</td>\n",
       "      <td>한들바람</td>\n",
       "    </tr>\n",
       "    <tr>\n",
       "      <th>215</th>\n",
       "      <td>중앙부처 및 산하기관에서 추진하는 공모사업, 지원 사업을 한곳에서 볼 수 있게 해 ...</td>\n",
       "      <td>국민참여</td>\n",
       "      <td>2019.06.24</td>\n",
       "      <td>2019.09.21</td>\n",
       "      <td>57</td>\n",
       "      <td>희동이</td>\n",
       "    </tr>\n",
       "  </tbody>\n",
       "</table>\n",
       "</div>"
      ],
      "text/plain": [
       "                                                    제목  제안분야        제안시작  \\\n",
       "아이디                                                                        \n",
       "277                                        예산을 공평하게 분배  사회통합  2019.10.15   \n",
       "257                                           동사무소 번호표  사회통합  2019.08.30   \n",
       "227                                 국민제안 문제점 지적 및 개선사항  국민참여  2019.07.26   \n",
       "226                가정양육수당 대폭 인상을 통한 보육예산 DOWN, 아이행복 UP  보건복지  2019.07.19   \n",
       "215  중앙부처 및 산하기관에서 추진하는 공모사업, 지원 사업을 한곳에서 볼 수 있게 해 ...  국민참여  2019.06.24   \n",
       "\n",
       "           제안마감  투표수     제안인  \n",
       "아이디                           \n",
       "277  2020.01.12    3  슈퍼맨119  \n",
       "257  2019.11.27    1  올리는 시민  \n",
       "227  2019.10.23    7      길쌈  \n",
       "226  2019.10.16    2    한들바람  \n",
       "215  2019.09.21   57     희동이  "
      ]
     },
     "execution_count": 3,
     "metadata": {},
     "output_type": "execute_result"
    }
   ],
   "source": [
    "df.set_index('아이디',inplace = True)\n",
    "df.head()"
   ]
  },
  {
   "cell_type": "code",
   "execution_count": 5,
   "metadata": {},
   "outputs": [
    {
     "data": {
      "text/plain": [
       "국민참여    2\n",
       "사회통합    2\n",
       "보건복지    1\n",
       "Name: 제안분야, dtype: int64"
      ]
     },
     "execution_count": 5,
     "metadata": {},
     "output_type": "execute_result"
    }
   ],
   "source": [
    "df['제안분야'].value_counts()"
   ]
  },
  {
   "cell_type": "code",
   "execution_count": 23,
   "metadata": {},
   "outputs": [
    {
     "data": {
      "text/html": [
       "<div>\n",
       "<style scoped>\n",
       "    .dataframe tbody tr th:only-of-type {\n",
       "        vertical-align: middle;\n",
       "    }\n",
       "\n",
       "    .dataframe tbody tr th {\n",
       "        vertical-align: top;\n",
       "    }\n",
       "\n",
       "    .dataframe thead th {\n",
       "        text-align: right;\n",
       "    }\n",
       "</style>\n",
       "<table border=\"1\" class=\"dataframe\">\n",
       "  <thead>\n",
       "    <tr style=\"text-align: right;\">\n",
       "      <th></th>\n",
       "      <th>제목</th>\n",
       "      <th>제안분야</th>\n",
       "      <th>제안시작</th>\n",
       "      <th>제안마감</th>\n",
       "      <th>투표수</th>\n",
       "      <th>제안인</th>\n",
       "    </tr>\n",
       "    <tr>\n",
       "      <th>아이디</th>\n",
       "      <th></th>\n",
       "      <th></th>\n",
       "      <th></th>\n",
       "      <th></th>\n",
       "      <th></th>\n",
       "      <th></th>\n",
       "    </tr>\n",
       "  </thead>\n",
       "  <tbody>\n",
       "    <tr>\n",
       "      <th>277</th>\n",
       "      <td>예산을 공평하게 분배</td>\n",
       "      <td>사회통합</td>\n",
       "      <td>2019.10.15</td>\n",
       "      <td>2020.01.12</td>\n",
       "      <td>3</td>\n",
       "      <td>슈퍼맨119</td>\n",
       "    </tr>\n",
       "    <tr>\n",
       "      <th>257</th>\n",
       "      <td>동사무소 번호표</td>\n",
       "      <td>사회통합</td>\n",
       "      <td>2019.08.30</td>\n",
       "      <td>2019.11.27</td>\n",
       "      <td>1</td>\n",
       "      <td>올리는 시민</td>\n",
       "    </tr>\n",
       "  </tbody>\n",
       "</table>\n",
       "</div>"
      ],
      "text/plain": [
       "              제목  제안분야        제안시작        제안마감  투표수     제안인\n",
       "아이디                                                        \n",
       "277  예산을 공평하게 분배  사회통합  2019.10.15  2020.01.12    3  슈퍼맨119\n",
       "257     동사무소 번호표  사회통합  2019.08.30  2019.11.27    1  올리는 시민"
      ]
     },
     "execution_count": 23,
     "metadata": {},
     "output_type": "execute_result"
    }
   ],
   "source": [
    "df[df['제안분야']=='사회통합'].head(3)"
   ]
  },
  {
   "cell_type": "code",
   "execution_count": 25,
   "metadata": {},
   "outputs": [
    {
     "data": {
      "text/html": [
       "<div>\n",
       "<style scoped>\n",
       "    .dataframe tbody tr th:only-of-type {\n",
       "        vertical-align: middle;\n",
       "    }\n",
       "\n",
       "    .dataframe tbody tr th {\n",
       "        vertical-align: top;\n",
       "    }\n",
       "\n",
       "    .dataframe thead th {\n",
       "        text-align: right;\n",
       "    }\n",
       "</style>\n",
       "<table border=\"1\" class=\"dataframe\">\n",
       "  <thead>\n",
       "    <tr style=\"text-align: right;\">\n",
       "      <th></th>\n",
       "      <th>제목</th>\n",
       "      <th>제안분야</th>\n",
       "      <th>제안시작</th>\n",
       "      <th>제안마감</th>\n",
       "      <th>투표수</th>\n",
       "      <th>제안인</th>\n",
       "    </tr>\n",
       "    <tr>\n",
       "      <th>아이디</th>\n",
       "      <th></th>\n",
       "      <th></th>\n",
       "      <th></th>\n",
       "      <th></th>\n",
       "      <th></th>\n",
       "      <th></th>\n",
       "    </tr>\n",
       "  </thead>\n",
       "  <tbody>\n",
       "    <tr>\n",
       "      <th>277</th>\n",
       "      <td>예산을 공평하게 분배</td>\n",
       "      <td>사회통합</td>\n",
       "      <td>2019.10.15</td>\n",
       "      <td>2020.01.12</td>\n",
       "      <td>3</td>\n",
       "      <td>슈퍼맨119</td>\n",
       "    </tr>\n",
       "  </tbody>\n",
       "</table>\n",
       "</div>"
      ],
      "text/plain": [
       "              제목  제안분야        제안시작        제안마감  투표수     제안인\n",
       "아이디                                                        \n",
       "277  예산을 공평하게 분배  사회통합  2019.10.15  2020.01.12    3  슈퍼맨119"
      ]
     },
     "execution_count": 25,
     "metadata": {},
     "output_type": "execute_result"
    }
   ],
   "source": [
    "df[df['제안시작']>='2019.10.01'].head()"
   ]
  },
  {
   "cell_type": "code",
   "execution_count": 26,
   "metadata": {},
   "outputs": [
    {
     "data": {
      "text/plain": [
       "Int64Index([277, 257, 227, 226, 215], dtype='int64', name='아이디')"
      ]
     },
     "execution_count": 26,
     "metadata": {},
     "output_type": "execute_result"
    }
   ],
   "source": [
    "df.index"
   ]
  },
  {
   "cell_type": "code",
   "execution_count": 33,
   "metadata": {},
   "outputs": [
    {
     "data": {
      "text/plain": [
       "제목      NaN\n",
       "제안분야    NaN\n",
       "제안시작    NaN\n",
       "제안마감    NaN\n",
       "투표수     NaN\n",
       "제안인     NaN\n",
       "Name: 215, dtype: object"
      ]
     },
     "execution_count": 33,
     "metadata": {},
     "output_type": "execute_result"
    }
   ],
   "source": [
    "df.loc[215] = np.nan\n",
    "df.loc[215]"
   ]
  },
  {
   "cell_type": "code",
   "execution_count": 36,
   "metadata": {},
   "outputs": [
    {
     "data": {
      "text/plain": [
       "제목      1\n",
       "제안분야    1\n",
       "제안시작    1\n",
       "제안마감    1\n",
       "투표수     1\n",
       "제안인     1\n",
       "dtype: int64"
      ]
     },
     "execution_count": 36,
     "metadata": {},
     "output_type": "execute_result"
    }
   ],
   "source": [
    "df.isna().sum()"
   ]
  },
  {
   "cell_type": "code",
   "execution_count": 6,
   "metadata": {},
   "outputs": [
    {
     "data": {
      "text/plain": [
       "제목      0\n",
       "제안분야    0\n",
       "제안시작    0\n",
       "제안마감    0\n",
       "투표수     0\n",
       "제안인     0\n",
       "dtype: int64"
      ]
     },
     "execution_count": 6,
     "metadata": {},
     "output_type": "execute_result"
    }
   ],
   "source": [
    "df = df.dropna()\n",
    "df.isna().sum()"
   ]
  },
  {
   "cell_type": "code",
   "execution_count": 9,
   "metadata": {},
   "outputs": [
    {
     "data": {
      "text/html": [
       "<div>\n",
       "<style scoped>\n",
       "    .dataframe tbody tr th:only-of-type {\n",
       "        vertical-align: middle;\n",
       "    }\n",
       "\n",
       "    .dataframe tbody tr th {\n",
       "        vertical-align: top;\n",
       "    }\n",
       "\n",
       "    .dataframe thead th {\n",
       "        text-align: right;\n",
       "    }\n",
       "</style>\n",
       "<table border=\"1\" class=\"dataframe\">\n",
       "  <thead>\n",
       "    <tr style=\"text-align: right;\">\n",
       "      <th></th>\n",
       "      <th>제목</th>\n",
       "      <th>제안분야</th>\n",
       "      <th>제안시작</th>\n",
       "      <th>제안마감</th>\n",
       "      <th>투표수</th>\n",
       "      <th>제안인</th>\n",
       "      <th>성별</th>\n",
       "      <th>a</th>\n",
       "    </tr>\n",
       "    <tr>\n",
       "      <th>아이디</th>\n",
       "      <th></th>\n",
       "      <th></th>\n",
       "      <th></th>\n",
       "      <th></th>\n",
       "      <th></th>\n",
       "      <th></th>\n",
       "      <th></th>\n",
       "      <th></th>\n",
       "    </tr>\n",
       "  </thead>\n",
       "  <tbody>\n",
       "    <tr>\n",
       "      <th>277</th>\n",
       "      <td>예산을 공평하게 분배</td>\n",
       "      <td>사회통합</td>\n",
       "      <td>2019.10.15</td>\n",
       "      <td>2020.01.12</td>\n",
       "      <td>3</td>\n",
       "      <td>슈퍼맨119</td>\n",
       "      <td>0</td>\n",
       "      <td>1</td>\n",
       "    </tr>\n",
       "    <tr>\n",
       "      <th>257</th>\n",
       "      <td>동사무소 번호표</td>\n",
       "      <td>사회통합</td>\n",
       "      <td>2019.08.30</td>\n",
       "      <td>2019.11.27</td>\n",
       "      <td>1</td>\n",
       "      <td>올리는 시민</td>\n",
       "      <td>0</td>\n",
       "      <td>1</td>\n",
       "    </tr>\n",
       "    <tr>\n",
       "      <th>227</th>\n",
       "      <td>국민제안 문제점 지적 및 개선사항</td>\n",
       "      <td>국민참여</td>\n",
       "      <td>2019.07.26</td>\n",
       "      <td>2019.10.23</td>\n",
       "      <td>7</td>\n",
       "      <td>길쌈</td>\n",
       "      <td>0</td>\n",
       "      <td>1</td>\n",
       "    </tr>\n",
       "    <tr>\n",
       "      <th>226</th>\n",
       "      <td>가정양육수당 대폭 인상을 통한 보육예산 DOWN, 아이행복 UP</td>\n",
       "      <td>보건복지</td>\n",
       "      <td>2019.07.19</td>\n",
       "      <td>2019.10.16</td>\n",
       "      <td>2</td>\n",
       "      <td>한들바람</td>\n",
       "      <td>0</td>\n",
       "      <td>1</td>\n",
       "    </tr>\n",
       "    <tr>\n",
       "      <th>215</th>\n",
       "      <td>중앙부처 및 산하기관에서 추진하는 공모사업, 지원 사업을 한곳에서 볼 수 있게 해 ...</td>\n",
       "      <td>국민참여</td>\n",
       "      <td>2019.06.24</td>\n",
       "      <td>2019.09.21</td>\n",
       "      <td>57</td>\n",
       "      <td>희동이</td>\n",
       "      <td>0</td>\n",
       "      <td>1</td>\n",
       "    </tr>\n",
       "  </tbody>\n",
       "</table>\n",
       "</div>"
      ],
      "text/plain": [
       "                                                    제목  제안분야        제안시작  \\\n",
       "아이디                                                                        \n",
       "277                                        예산을 공평하게 분배  사회통합  2019.10.15   \n",
       "257                                           동사무소 번호표  사회통합  2019.08.30   \n",
       "227                                 국민제안 문제점 지적 및 개선사항  국민참여  2019.07.26   \n",
       "226                가정양육수당 대폭 인상을 통한 보육예산 DOWN, 아이행복 UP  보건복지  2019.07.19   \n",
       "215  중앙부처 및 산하기관에서 추진하는 공모사업, 지원 사업을 한곳에서 볼 수 있게 해 ...  국민참여  2019.06.24   \n",
       "\n",
       "           제안마감  투표수     제안인  성별  a  \n",
       "아이디                                  \n",
       "277  2020.01.12    3  슈퍼맨119   0  1  \n",
       "257  2019.11.27    1  올리는 시민   0  1  \n",
       "227  2019.10.23    7      길쌈   0  1  \n",
       "226  2019.10.16    2    한들바람   0  1  \n",
       "215  2019.09.21   57     희동이   0  1  "
      ]
     },
     "execution_count": 9,
     "metadata": {},
     "output_type": "execute_result"
    }
   ],
   "source": [
    "df['성별']=0\n",
    "df['a']=1\n",
    "\n",
    "df.head()"
   ]
  },
  {
   "cell_type": "code",
   "execution_count": 11,
   "metadata": {},
   "outputs": [
    {
     "data": {
      "text/html": [
       "<div>\n",
       "<style scoped>\n",
       "    .dataframe tbody tr th:only-of-type {\n",
       "        vertical-align: middle;\n",
       "    }\n",
       "\n",
       "    .dataframe tbody tr th {\n",
       "        vertical-align: top;\n",
       "    }\n",
       "\n",
       "    .dataframe thead th {\n",
       "        text-align: right;\n",
       "    }\n",
       "</style>\n",
       "<table border=\"1\" class=\"dataframe\">\n",
       "  <thead>\n",
       "    <tr style=\"text-align: right;\">\n",
       "      <th></th>\n",
       "      <th>제목</th>\n",
       "      <th>제안분야</th>\n",
       "      <th>제안시작</th>\n",
       "      <th>제안마감</th>\n",
       "      <th>투표수</th>\n",
       "      <th>제안인</th>\n",
       "    </tr>\n",
       "    <tr>\n",
       "      <th>아이디</th>\n",
       "      <th></th>\n",
       "      <th></th>\n",
       "      <th></th>\n",
       "      <th></th>\n",
       "      <th></th>\n",
       "      <th></th>\n",
       "    </tr>\n",
       "  </thead>\n",
       "  <tbody>\n",
       "    <tr>\n",
       "      <th>277</th>\n",
       "      <td>예산을 공평하게 분배</td>\n",
       "      <td>사회통합</td>\n",
       "      <td>2019.10.15</td>\n",
       "      <td>2020.01.12</td>\n",
       "      <td>3</td>\n",
       "      <td>슈퍼맨119</td>\n",
       "    </tr>\n",
       "    <tr>\n",
       "      <th>257</th>\n",
       "      <td>동사무소 번호표</td>\n",
       "      <td>사회통합</td>\n",
       "      <td>2019.08.30</td>\n",
       "      <td>2019.11.27</td>\n",
       "      <td>1</td>\n",
       "      <td>올리는 시민</td>\n",
       "    </tr>\n",
       "    <tr>\n",
       "      <th>227</th>\n",
       "      <td>국민제안 문제점 지적 및 개선사항</td>\n",
       "      <td>국민참여</td>\n",
       "      <td>2019.07.26</td>\n",
       "      <td>2019.10.23</td>\n",
       "      <td>7</td>\n",
       "      <td>길쌈</td>\n",
       "    </tr>\n",
       "    <tr>\n",
       "      <th>226</th>\n",
       "      <td>가정양육수당 대폭 인상을 통한 보육예산 DOWN, 아이행복 UP</td>\n",
       "      <td>보건복지</td>\n",
       "      <td>2019.07.19</td>\n",
       "      <td>2019.10.16</td>\n",
       "      <td>2</td>\n",
       "      <td>한들바람</td>\n",
       "    </tr>\n",
       "    <tr>\n",
       "      <th>215</th>\n",
       "      <td>중앙부처 및 산하기관에서 추진하는 공모사업, 지원 사업을 한곳에서 볼 수 있게 해 ...</td>\n",
       "      <td>국민참여</td>\n",
       "      <td>2019.06.24</td>\n",
       "      <td>2019.09.21</td>\n",
       "      <td>57</td>\n",
       "      <td>희동이</td>\n",
       "    </tr>\n",
       "  </tbody>\n",
       "</table>\n",
       "</div>"
      ],
      "text/plain": [
       "                                                    제목  제안분야        제안시작  \\\n",
       "아이디                                                                        \n",
       "277                                        예산을 공평하게 분배  사회통합  2019.10.15   \n",
       "257                                           동사무소 번호표  사회통합  2019.08.30   \n",
       "227                                 국민제안 문제점 지적 및 개선사항  국민참여  2019.07.26   \n",
       "226                가정양육수당 대폭 인상을 통한 보육예산 DOWN, 아이행복 UP  보건복지  2019.07.19   \n",
       "215  중앙부처 및 산하기관에서 추진하는 공모사업, 지원 사업을 한곳에서 볼 수 있게 해 ...  국민참여  2019.06.24   \n",
       "\n",
       "           제안마감  투표수     제안인  \n",
       "아이디                           \n",
       "277  2020.01.12    3  슈퍼맨119  \n",
       "257  2019.11.27    1  올리는 시민  \n",
       "227  2019.10.23    7      길쌈  \n",
       "226  2019.10.16    2    한들바람  \n",
       "215  2019.09.21   57     희동이  "
      ]
     },
     "execution_count": 11,
     "metadata": {},
     "output_type": "execute_result"
    }
   ],
   "source": [
    "del df['성별']\n",
    "del df['a']\n",
    "df.head()"
   ]
  },
  {
   "cell_type": "code",
   "execution_count": 16,
   "metadata": {},
   "outputs": [
    {
     "data": {
      "text/plain": [
       "아이디\n",
       "277                                          예산을 공평하게 분배\n",
       "257                                             동사무소 번호표\n",
       "227                                   국민제안 문제점 지적 및 개선사항\n",
       "226                  가정양육수당 대폭 인상을 통한 보육예산 DOWN, 아이행복 UP\n",
       "215    중앙부처 및 산하기관에서 추진하는 공모사업, 지원 사업을 한곳에서 볼 수 있게 해 ...\n",
       "Name: 제목, dtype: object"
      ]
     },
     "execution_count": 16,
     "metadata": {},
     "output_type": "execute_result"
    }
   ],
   "source": [
    "df.loc[277:215,'제목']"
   ]
  },
  {
   "cell_type": "code",
   "execution_count": 20,
   "metadata": {},
   "outputs": [
    {
     "data": {
      "text/plain": [
       "'가정양육수당 대폭 인상을 통한 보육예산 DOWN, 아이행복 UP'"
      ]
     },
     "execution_count": 20,
     "metadata": {},
     "output_type": "execute_result"
    }
   ],
   "source": [
    "df.loc[210] = ['제목':'개학','제안분야':'기타',\"제안시작\":'2020.5.25','제안마감','2020.5.30','투표수':'5','제안인':None]\n",
    "df.iloc[-1,0]"
   ]
  },
  {
   "cell_type": "code",
   "execution_count": null,
   "metadata": {},
   "outputs": [],
   "source": []
  }
 ],
 "metadata": {
  "kernelspec": {
   "display_name": "Python 3",
   "language": "python",
   "name": "python3"
  },
  "language_info": {
   "codemirror_mode": {
    "name": "ipython",
    "version": 3
   },
   "file_extension": ".py",
   "mimetype": "text/x-python",
   "name": "python",
   "nbconvert_exporter": "python",
   "pygments_lexer": "ipython3",
   "version": "3.7.3"
  }
 },
 "nbformat": 4,
 "nbformat_minor": 2
}
