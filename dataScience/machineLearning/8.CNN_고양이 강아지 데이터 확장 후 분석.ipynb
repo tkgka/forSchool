{
 "cells": [
  {
   "cell_type": "code",
   "execution_count": 4,
   "metadata": {},
   "outputs": [],
   "source": [
    "from tensorflow.keras.models import Sequential\n",
    "from tensorflow.keras.layers import Conv2D, MaxPooling2D, Flatten, Dense\n",
    "from tensorflow.keras.preprocessing.image import ImageDataGenerator\n",
    "\n",
    "import numpy as np\n",
    "import pandas as pd\n",
    "import matplotlib.pyplot as plt"
   ]
  },
  {
   "cell_type": "code",
   "execution_count": 6,
   "metadata": {},
   "outputs": [],
   "source": [
    "data_img_gen = ImageDataGenerator(rescale=1./255,\n",
    "                  rotation_range=180,\n",
    "                  width_shift_range=0.1,\n",
    "                  height_shift_range=0.1,\n",
    "                  zoom_range=0.3,\n",
    "                  horizontal_flip=True)"
   ]
  },
  {
   "cell_type": "code",
   "execution_count": 7,
   "metadata": {},
   "outputs": [
    {
     "name": "stdout",
     "output_type": "stream",
     "text": [
      "Found 2000 images belonging to 2 classes.\n"
     ]
    }
   ],
   "source": [
    "train_generator = data_img_gen.flow_from_directory(directory=\"../data/cats_and_dogs_filtered/train/\",\n",
    "                                target_size=(224,224),\n",
    "                                batch_size=100,\n",
    "                                class_mode=\"binary\")"
   ]
  },
  {
   "cell_type": "code",
   "execution_count": 8,
   "metadata": {},
   "outputs": [
    {
     "name": "stdout",
     "output_type": "stream",
     "text": [
      "Found 1000 images belonging to 2 classes.\n"
     ]
    }
   ],
   "source": [
    "test_generator = data_img_gen.flow_from_directory(directory=\"../data/cats_and_dogs_filtered/test/\",\n",
    "                                target_size=(224,224),\n",
    "                                batch_size=100,\n",
    "                                class_mode=\"binary\")"
   ]
  },
  {
   "cell_type": "code",
   "execution_count": 11,
   "metadata": {},
   "outputs": [
    {
     "name": "stdout",
     "output_type": "stream",
     "text": [
      "['cats/cat.0.jpg', 'cats/cat.1.jpg', 'cats/cat.10.jpg']\n",
      "['dogs/dog.997.jpg', 'dogs/dog.998.jpg', 'dogs/dog.999.jpg']\n"
     ]
    }
   ],
   "source": [
    "print(train_generator.filenames[:3])\n",
    "print(train_generator.filenames[-3:])"
   ]
  },
  {
   "cell_type": "code",
   "execution_count": 13,
   "metadata": {},
   "outputs": [
    {
     "name": "stdout",
     "output_type": "stream",
     "text": [
      "['cats/cat.2000.jpg', 'cats/cat.2001.jpg', 'cats/cat.2002.jpg']\n",
      "['dogs/dog.2497.jpg', 'dogs/dog.2498.jpg', 'dogs/dog.2499.jpg']\n"
     ]
    }
   ],
   "source": [
    "print(test_generator.filenames[:3])\n",
    "print(test_generator.filenames[-3:])"
   ]
  },
  {
   "cell_type": "code",
   "execution_count": 14,
   "metadata": {},
   "outputs": [
    {
     "data": {
      "text/plain": [
       "{'cats': 0, 'dogs': 1}"
      ]
     },
     "execution_count": 14,
     "metadata": {},
     "output_type": "execute_result"
    }
   ],
   "source": [
    "train_generator.class_indices"
   ]
  },
  {
   "cell_type": "code",
   "execution_count": 16,
   "metadata": {},
   "outputs": [
    {
     "data": {
      "text/plain": [
       "{'cats': 0, 'dogs': 1}"
      ]
     },
     "execution_count": 16,
     "metadata": {},
     "output_type": "execute_result"
    }
   ],
   "source": [
    "test_generator.class_indices"
   ]
  },
  {
   "cell_type": "code",
   "execution_count": 20,
   "metadata": {},
   "outputs": [],
   "source": [
    "#CNN 모델 생성\n",
    "model = Sequential()\n",
    "\n",
    "model.add(Conv2D(filters=8,\n",
    "                kernel_size=(3,3),\n",
    "                activation=\"relu\",\n",
    "                padding=\"same\",\n",
    "                input_shape=(224,224,3)))\n",
    "\n",
    "model.add(Conv2D(filters=8,\n",
    "                kernel_size=(3,3),\n",
    "                activation=\"relu\",\n",
    "                padding=\"same\"\n",
    "                ))\n",
    "\n",
    "model.add(MaxPooling2D(pool_size=(2,2),strides=(2,2)))\n",
    "\n",
    "                 \n",
    "model.add(Conv2D(filters=8,\n",
    "                kernel_size=(3,3),\n",
    "                activation=\"relu\",\n",
    "                padding=\"same\"))\n",
    "\n",
    "model.add(Conv2D(filters=8,\n",
    "                kernel_size=(3,3),\n",
    "                activation=\"relu\",\n",
    "                padding=\"same\"))\n",
    "\n",
    "model.add(MaxPooling2D(pool_size=(2,2),strides=(2,2)))\n",
    "\n",
    "model.add(Flatten())\n",
    "model.add(Dense(units=128, activation=\"relu\"))\n",
    "model.add(Dense(units=1, activation=\"sigmoid\"))\n",
    "\n",
    "model.compile(loss=\"binary_crossentropy\",\n",
    "             optimizer=\"adam\",\n",
    "             metrics=[\"accuracy\"])"
   ]
  },
  {
   "cell_type": "code",
   "execution_count": 22,
   "metadata": {},
   "outputs": [
    {
     "name": "stdout",
     "output_type": "stream",
     "text": [
      "Epoch 1/3\n",
      "20/20 [==============================] - 39s 2s/step - loss: 0.6850 - accuracy: 0.5270 - val_loss: 0.6792 - val_accuracy: 0.5000\n",
      "Epoch 2/3\n",
      "20/20 [==============================] - 39s 2s/step - loss: 0.6785 - accuracy: 0.5295 - val_loss: 0.6630 - val_accuracy: 0.6090\n",
      "Epoch 3/3\n",
      "20/20 [==============================] - 39s 2s/step - loss: 0.6646 - accuracy: 0.5720 - val_loss: 0.6598 - val_accuracy: 0.5260\n"
     ]
    },
    {
     "data": {
      "text/plain": [
       "<tensorflow.python.keras.callbacks.History at 0x147ede390>"
      ]
     },
     "execution_count": 22,
     "metadata": {},
     "output_type": "execute_result"
    }
   ],
   "source": [
    "model.fit_generator(generator=train_generator,\n",
    "                   steps_per_epoch=2000//100,\n",
    "                   validation_data=test_generator,\n",
    "                   validation_steps=1000//100,\n",
    "                   epochs=3)"
   ]
  },
  {
   "cell_type": "code",
   "execution_count": 23,
   "metadata": {},
   "outputs": [
    {
     "name": "stdout",
     "output_type": "stream",
     "text": [
      "10/10 [==============================] - 10s 978ms/step - loss: 0.6604 - accuracy: 0.5230\n"
     ]
    },
    {
     "data": {
      "text/plain": [
       "[0.6604382395744324, 0.5230000019073486]"
      ]
     },
     "execution_count": 23,
     "metadata": {},
     "output_type": "execute_result"
    }
   ],
   "source": [
    "model.evaluate(test_generator)"
   ]
  },
  {
   "cell_type": "code",
   "execution_count": 25,
   "metadata": {},
   "outputs": [],
   "source": [
    "model.save_weights(\"./model_save/cats_dogs.h5\")"
   ]
  },
  {
   "cell_type": "markdown",
   "metadata": {},
   "source": [
    "##"
   ]
  },
  {
   "cell_type": "code",
   "execution_count": null,
   "metadata": {},
   "outputs": [],
   "source": []
  }
 ],
 "metadata": {
  "kernelspec": {
   "display_name": "Python 3",
   "language": "python",
   "name": "python3"
  },
  "language_info": {
   "codemirror_mode": {
    "name": "ipython",
    "version": 3
   },
   "file_extension": ".py",
   "mimetype": "text/x-python",
   "name": "python",
   "nbconvert_exporter": "python",
   "pygments_lexer": "ipython3",
   "version": "3.7.3"
  }
 },
 "nbformat": 4,
 "nbformat_minor": 4
}
