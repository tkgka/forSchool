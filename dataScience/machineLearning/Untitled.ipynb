{
 "cells": [
  {
   "cell_type": "code",
   "execution_count": 26,
   "metadata": {},
   "outputs": [],
   "source": [
    "from konlpy.tag import *\n",
    "import konlpy"
   ]
  },
  {
   "cell_type": "code",
   "execution_count": 4,
   "metadata": {},
   "outputs": [],
   "source": [
    "hannanum = Hannanum()\n",
    "kkma = Kkma()\n",
    "komoran = Komoran()\n",
    "okt = Okt()\n",
    "mecab = Mecab()\n"
   ]
  },
  {
   "cell_type": "code",
   "execution_count": 17,
   "metadata": {},
   "outputs": [],
   "source": [
    "text = \"새벽인데 배고프고 졸리다.\""
   ]
  },
  {
   "cell_type": "code",
   "execution_count": 22,
   "metadata": {},
   "outputs": [
    {
     "name": "stdout",
     "output_type": "stream",
     "text": [
      "명사 추출: ['새벽', '졸리']\n",
      "형태소 추출: ['새벽', '인데', '배고프고', '졸리', '다', '.']\n",
      "품사 부착: [('새벽', 'Noun'), ('인데', 'Josa'), ('배고프고', 'Adjective'), ('졸리', 'Noun'), ('다', 'Josa'), ('.', 'Punctuation')]\n"
     ]
    }
   ],
   "source": [
    "print(f\"명사 추출: {okt.nouns(text)}\")\n",
    "print(f\"형태소 추출: {okt.morphs(text)}\")\n",
    "print(f\"품사 부착: {okt.pos(text)}\")"
   ]
  },
  {
   "cell_type": "code",
   "execution_count": 23,
   "metadata": {},
   "outputs": [
    {
     "name": "stdout",
     "output_type": "stream",
     "text": [
      "명사 추출: ['새벽']\n",
      "형태소 추출: ['새벽', '이', 'ㄴ데', '배고프', '고', '졸리', '다', '.']\n",
      "품사 부착: [('새벽', 'NNG'), ('이', 'VCP'), ('ㄴ데', 'EC'), ('배고프', 'VA'), ('고', 'EC'), ('졸리', 'VV'), ('다', 'EF'), ('.', 'SF')]\n"
     ]
    }
   ],
   "source": [
    "print(f\"명사 추출: {komoran.nouns(text)}\")\n",
    "print(f\"형태소 추출: {komoran.morphs(text)}\")\n",
    "print(f\"품사 부착: {komoran.pos(text)}\")"
   ]
  },
  {
   "cell_type": "code",
   "execution_count": 19,
   "metadata": {},
   "outputs": [
    {
     "name": "stdout",
     "output_type": "stream",
     "text": [
      "명사 추출: ['새벽']\n",
      "형태소 추출: ['새벽', '이', 'ㄴ데', '배고프', '고', '졸리', '다', '.']\n",
      "품사 부착: [('새벽', 'NNG'), ('이', 'VCP'), ('ㄴ데', 'ECE'), ('배고프', 'VA'), ('고', 'ECE'), ('졸리', 'VV'), ('다', 'EFN'), ('.', 'SF')]\n"
     ]
    }
   ],
   "source": [
    "print(f\"명사 추출: {kkma.nouns(text)}\")\n",
    "print(f\"형태소 추출: {kkma.morphs(text)}\")\n",
    "print(f\"품사 부착: {kkma.pos(text)}\")"
   ]
  },
  {
   "cell_type": "code",
   "execution_count": 18,
   "metadata": {},
   "outputs": [
    {
     "name": "stdout",
     "output_type": "stream",
     "text": [
      "명사 추출: ['새벽']\n",
      "형태소 추출: ['새벽', '인데', '배고프', '고', '졸리', '다', '.']\n",
      "품사 부착: [('새벽', 'NNG'), ('인데', 'VCP+EC'), ('배고프', 'VV'), ('고', 'EC'), ('졸리', 'VV'), ('다', 'EF'), ('.', 'SF')]\n"
     ]
    }
   ],
   "source": [
    "print(f\"명사 추출: {mecab.nouns(text)}\")\n",
    "print(f\"형태소 추출: {mecab.morphs(text)}\")\n",
    "print(f\"품사 부착: {mecab.pos(text)}\")"
   ]
  },
  {
   "cell_type": "code",
   "execution_count": 27,
   "metadata": {},
   "outputs": [
    {
     "data": {
      "text/plain": [
       "[1]"
      ]
     },
     "execution_count": 27,
     "metadata": {},
     "output_type": "execute_result"
    }
   ],
   "source": [
    "konlpy.utils.concordance(\"만나\", \"안녕하세요. 만나서 반가워요\")"
   ]
  },
  {
   "cell_type": "code",
   "execution_count": 29,
   "metadata": {},
   "outputs": [
    {
     "name": "stdout",
     "output_type": "stream",
     "text": [
      "가의 16진수 표기: 0xac00\n"
     ]
    }
   ],
   "source": [
    "char_obj = u'가'\n",
    "print(f\"{char_obj}의 16진수 표기: {konlpy.utils.char2hex(char_obj)}\")"
   ]
  },
  {
   "cell_type": "code",
   "execution_count": 31,
   "metadata": {},
   "outputs": [
    {
     "data": {
      "text/plain": [
       "'구글 주소는  입니다.'"
      ]
     },
     "execution_count": 31,
     "metadata": {},
     "output_type": "execute_result"
    }
   ],
   "source": [
    "konlpy.utils.delete_links('구글 주소는 https://google.com/ 입니다.')"
   ]
  },
  {
   "cell_type": "code",
   "execution_count": 32,
   "metadata": {},
   "outputs": [
    {
     "data": {
      "text/plain": [
       "' 뭐라는거얔ㅋㅋㅋㅋ'"
      ]
     },
     "execution_count": 32,
     "metadata": {},
     "output_type": "execute_result"
    }
   ],
   "source": [
    "konlpy.utils.delete_mentions(\"@김철수 뭐라는거얔ㅋㅋㅋㅋ\")"
   ]
  },
  {
   "cell_type": "code",
   "execution_count": null,
   "metadata": {},
   "outputs": [],
   "source": []
  },
  {
   "cell_type": "code",
   "execution_count": null,
   "metadata": {},
   "outputs": [],
   "source": []
  },
  {
   "cell_type": "code",
   "execution_count": null,
   "metadata": {},
   "outputs": [],
   "source": []
  },
  {
   "cell_type": "code",
   "execution_count": null,
   "metadata": {},
   "outputs": [],
   "source": []
  },
  {
   "cell_type": "code",
   "execution_count": null,
   "metadata": {},
   "outputs": [],
   "source": []
  }
 ],
 "metadata": {
  "kernelspec": {
   "display_name": "Python 3",
   "language": "python",
   "name": "python3"
  },
  "language_info": {
   "codemirror_mode": {
    "name": "ipython",
    "version": 3
   },
   "file_extension": ".py",
   "mimetype": "text/x-python",
   "name": "python",
   "nbconvert_exporter": "python",
   "pygments_lexer": "ipython3",
   "version": "3.7.3"
  }
 },
 "nbformat": 4,
 "nbformat_minor": 4
}
